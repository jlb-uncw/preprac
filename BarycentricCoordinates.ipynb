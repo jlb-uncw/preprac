{
 "cells": [
  {
   "cell_type": "markdown",
   "metadata": {},
   "source": [
    "# Barycentric Coordinates\n",
    "\n",
    "Let V be a triangle with vertices A, B, C and let X be a point.\n",
    "\n",
    "In this notebook **area** means **signed area**.\n",
    "\n",
    "<img src='data/bc1.png' width=800px>\n",
    "\n",
    "area A is the area of the triangle with vertices X,B,C\n",
    "\n",
    "area B is the area of the triangle with vertices X,C,A\n",
    "\n",
    "area C is the area of the triangle with vertices X,A,B\n",
    "\n",
    "area V is the area of the triangle V\n",
    "\n",
    "The Barycentric Coordinate Functions associated with triangle V are three functions from the plane to the real numbers.  Let a(X), b(X), c(X) be coordinate functions associated with vertices A,B,C respectively.\n",
    "\n",
    "**Definitions**\n",
    "\n",
    "$a(X)=\\frac{area A}{area V}$, $b(X)=\\frac{area B}{area V}$ and $c(X)=\\frac{area C}{area V}$\n",
    "\n",
    "**Note**\n",
    "\n",
    "X does not have to be in triangle V.  Suppose X is beneath the segment $\\overline{AB}$.\n",
    "\n",
    "Then area C is negative, because the vertices X,A,B are clockwise.  This makes c(X) negative.\n",
    "\n",
    "**Important Property**\n",
    "\n",
    "a(X)A + b(X)B + c(X)C = X\n",
    "\n",
    "Here we are thinking of A, B, C and X as **vectors**, so a(X)A is the scalar a(X) times the vector A.\n",
    "\n",
    "In this notebook we will implement Barycentric Coordinates as a python function and illustrate the Important Property."
   ]
  },
  {
   "cell_type": "code",
   "execution_count": 1,
   "metadata": {},
   "outputs": [],
   "source": [
    "# The signed area function from the SignedArea notebook\n",
    "\n",
    "import numpy as np\n",
    "\n",
    "def signed_area(v):\n",
    "    '''\n",
    "    v should be a numpy array with shape (n,2) representing n points in the plane.\n",
    "    Return the signed area of the corresponding polygon.\n",
    "    '''\n",
    "    n = v.shape[0]\n",
    "    total = 0\n",
    "    for i in range(n):\n",
    "        total += (v[i%n,0]+v[(i+1)%n,0])*(v[(i+1)%n,1]-v[i%n,1])\n",
    "        #print(total)\n",
    "        \n",
    "    return total/2"
   ]
  },
  {
   "cell_type": "code",
   "execution_count": 9,
   "metadata": {},
   "outputs": [],
   "source": [
    "def bcoords(v,x):\n",
    "    '''\n",
    "    v should be a numpy array with shape (3,2) representing a triangle,\n",
    "    and x an array of shape (2,) representing a point.\n",
    "    Return an array of shape (3,) that holds the barycentric coordinates\n",
    "    of x with respect to the vertices of triangle v.\n",
    "    '''\n",
    "    av = signed_area(v)\n",
    "    \n",
    "    areaA = signed_area(np.vstack([x,v[1],v[2]]))\n",
    "    areaB = signed_area(np.vstack([x,v[2],v[0]]))\n",
    "    areaC = signed_area(np.vstack([x,v[0],v[1]]))\n",
    "    \n",
    "    return np.array([areaA/av,areaB/av,areaC/av]).reshape(3,1)"
   ]
  },
  {
   "cell_type": "code",
   "execution_count": 10,
   "metadata": {},
   "outputs": [],
   "source": [
    "v = np.array([[1,1],\n",
    "              [9,2],\n",
    "              [3,8]])\n",
    "\n",
    "x = np.array([5,5])"
   ]
  },
  {
   "cell_type": "code",
   "execution_count": 11,
   "metadata": {},
   "outputs": [
    {
     "data": {
      "text/plain": [
       "array([[0.11111111],\n",
       "       [0.37037037],\n",
       "       [0.51851852]])"
      ]
     },
     "execution_count": 11,
     "metadata": {},
     "output_type": "execute_result"
    }
   ],
   "source": [
    "c = bcoords(v,x)\n",
    "c"
   ]
  },
  {
   "cell_type": "code",
   "execution_count": 12,
   "metadata": {},
   "outputs": [
    {
     "data": {
      "text/plain": [
       "1.0"
      ]
     },
     "execution_count": 12,
     "metadata": {},
     "output_type": "execute_result"
    }
   ],
   "source": [
    "# Sanity Check: coordinates should sum to 1\n",
    "\n",
    "c.sum()"
   ]
  },
  {
   "cell_type": "markdown",
   "metadata": {},
   "source": [
    "Multiply the three rows of v by the three values in c, then sum the columns of the result.  You should recover the vector x."
   ]
  },
  {
   "cell_type": "code",
   "execution_count": 13,
   "metadata": {},
   "outputs": [
    {
     "data": {
      "text/plain": [
       "array([5., 5.])"
      ]
     },
     "execution_count": 13,
     "metadata": {},
     "output_type": "execute_result"
    }
   ],
   "source": [
    "(v*c).sum(axis=0)"
   ]
  },
  {
   "cell_type": "code",
   "execution_count": null,
   "metadata": {},
   "outputs": [],
   "source": []
  }
 ],
 "metadata": {
  "kernelspec": {
   "display_name": "Python 3",
   "language": "python",
   "name": "python3"
  },
  "language_info": {
   "codemirror_mode": {
    "name": "ipython",
    "version": 3
   },
   "file_extension": ".py",
   "mimetype": "text/x-python",
   "name": "python",
   "nbconvert_exporter": "python",
   "pygments_lexer": "ipython3",
   "version": "3.7.3"
  },
  "toc": {
   "base_numbering": 1,
   "nav_menu": {},
   "number_sections": true,
   "sideBar": true,
   "skip_h1_title": true,
   "title_cell": "Table of Contents",
   "title_sidebar": "Contents",
   "toc_cell": false,
   "toc_position": {},
   "toc_section_display": true,
   "toc_window_display": false
  }
 },
 "nbformat": 4,
 "nbformat_minor": 2
}

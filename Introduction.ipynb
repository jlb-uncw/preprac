{
 "cells": [
  {
   "cell_type": "markdown",
   "metadata": {},
   "source": [
    "# Introduction to Github and Git\n",
    "\n",
    "**Git**\n",
    "\n",
    "Git is a tool for synchronizing files in projects.  It is most commonly used by programming teams for collaboration, but it can also be used for any project where you want to keep track of versions of the project, try out new ideas and revert to previous versions if needed.\n",
    "\n",
    "There are graphical user interfaces (GUI) for git, but we will use the command-line interface from the jupyterhub server.\n",
    "\n",
    "**Github**\n",
    "\n",
    "Github is a web site designed to host git repositories (repos) and allow users to interact with those repos using git.\n",
    "\n",
    "I have created a github repo that we will use to learn about these tools.  The repo concerns a programming problem that we will solve in a collaborative effort.  See the notebook GouraudingShading for an image of the end product.\n",
    "\n",
    "Here is a link to the guides page maintained by github:\n",
    "\n",
    "https://guides.github.com/\n",
    "\n",
    "Here is a link to a tutorial on github that I think is interesting:\n",
    "\n",
    "https://kbroman.org/github_tutorial/\n",
    "\n",
    "Here is a link to a cheat sheet on Mark Down:\n",
    "\n",
    "https://github.com/adam-p/markdown-here/wiki/Markdown-Cheatsheet"
   ]
  },
  {
   "cell_type": "markdown",
   "metadata": {},
   "source": [
    "## Create a github account\n",
    "\n",
    "Go to https://github.com and click the Sign Up link."
   ]
  },
  {
   "cell_type": "markdown",
   "metadata": {},
   "source": [
    "## Cloning the Repo\n",
    "\n",
    "When you clone a repo you bring a copy of the files to your computer.\n",
    "\n",
    "Here are the steps:\n",
    "\n",
    "* Open the repository in a browser.  The URL is https://github.com/jlb-uncw/preprac\n",
    "\n",
    "* Click the green Clone or Download button and copy the URL to the clipboard.\n",
    "\n",
    "* The URL is https://github.com/jlb-uncw/preprac.git and you could just type that in, but they offer the copy-to-clipboard option as a convenience.\n",
    "\n",
    "* Open a terminal in jupyterhub\n",
    "\n",
    "* Type the command `git clone` followed by the URL, either paste from clipboard or type it.\n",
    "\n",
    "* This will create the directory preprac in your home directory.\n",
    "\n",
    "* Change to the preprac directory with the command `cd preprac`\n",
    "\n",
    "* List the contents of the directory with the command `ls`\n",
    "\n",
    "* Now you can open the notebooks in the jupyterhub.\n",
    "\n"
   ]
  },
  {
   "cell_type": "markdown",
   "metadata": {},
   "source": [
    "## Presentation\n",
    "\n",
    "We are going to start working on the presentation for this project right away, and that starts with an outline."
   ]
  },
  {
   "cell_type": "code",
   "execution_count": null,
   "metadata": {},
   "outputs": [],
   "source": []
  }
 ],
 "metadata": {
  "kernelspec": {
   "display_name": "Python 3",
   "language": "python",
   "name": "python3"
  },
  "language_info": {
   "codemirror_mode": {
    "name": "ipython",
    "version": 3
   },
   "file_extension": ".py",
   "mimetype": "text/x-python",
   "name": "python",
   "nbconvert_exporter": "python",
   "pygments_lexer": "ipython3",
   "version": "3.7.3"
  },
  "toc": {
   "base_numbering": 1,
   "nav_menu": {},
   "number_sections": true,
   "sideBar": true,
   "skip_h1_title": true,
   "title_cell": "Table of Contents",
   "title_sidebar": "Contents",
   "toc_cell": false,
   "toc_position": {},
   "toc_section_display": true,
   "toc_window_display": false
  }
 },
 "nbformat": 4,
 "nbformat_minor": 2
}

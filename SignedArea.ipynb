{
 "cells": [
  {
   "cell_type": "markdown",
   "metadata": {},
   "source": [
    "# Signed Area of a Polygon\n",
    "\n",
    "If the vertices of a polygon are in **counter clockwise order** then its signed area is **positive**. With **clockwise** vertices the signed area is **negative**.\n",
    "\n",
    "Let P be a polygon with vertices $(x_0,y_0),(x_1,y_1),\\dots ,(x_n,y_n)$\n",
    "\n",
    "One way to find the signed area of P is with this formula:\n",
    "\n",
    "$$\\frac{1}{2}[(x_0+x_1)(y_1-y_0)+(x_1+x_2)(y_2-y_1)+\\cdots +(x_{n-1}+x_n)(y_n-y_{n-1})]$$"
   ]
  },
  {
   "cell_type": "markdown",
   "metadata": {},
   "source": [
    "**Example**\n",
    "\n",
    "<img src='data/sa1.png' width=400px>\n",
    "\n",
    "((0+1)\\*(0-5)+(1+5)\\*(3-0)+(5+2)\\*(4-3)+(2+4)\\*(6-4)+(4+0)\\*(5-6))/2 = 14"
   ]
  },
  {
   "cell_type": "code",
   "execution_count": 17,
   "metadata": {},
   "outputs": [
    {
     "data": {
      "text/plain": [
       "14.0"
      ]
     },
     "execution_count": 17,
     "metadata": {},
     "output_type": "execute_result"
    }
   ],
   "source": [
    "((0+1)*(0-5)+(1+5)*(3-0)+(5+2)*(4-3)+(2+4)*(6-4)+(4+0)*(5-6))/2"
   ]
  },
  {
   "cell_type": "code",
   "execution_count": 18,
   "metadata": {},
   "outputs": [],
   "source": [
    "import numpy as np\n",
    "\n",
    "def signed_area(v):\n",
    "    '''\n",
    "    v should be a numpy array with shape (n,2) representing n points in the plane.\n",
    "    Return the signed area of the corresponding polygon.\n",
    "    '''\n",
    "    n = v.shape[0]\n",
    "    total = 0\n",
    "    for i in range(n):\n",
    "        total += (v[i%n,0]+v[(i+1)%n,0])*(v[(i+1)%n,1]-v[i%n,1])\n",
    "        #print(total)\n",
    "        \n",
    "    return total/2"
   ]
  },
  {
   "cell_type": "code",
   "execution_count": 12,
   "metadata": {},
   "outputs": [],
   "source": [
    "v = np.array([[0,5],\n",
    "              [1,0],\n",
    "              [5,3],\n",
    "              [2,4],\n",
    "              [4,6]])"
   ]
  },
  {
   "cell_type": "code",
   "execution_count": 19,
   "metadata": {},
   "outputs": [
    {
     "data": {
      "text/plain": [
       "14.0"
      ]
     },
     "execution_count": 19,
     "metadata": {},
     "output_type": "execute_result"
    }
   ],
   "source": [
    "signed_area(v)"
   ]
  },
  {
   "cell_type": "code",
   "execution_count": null,
   "metadata": {},
   "outputs": [],
   "source": []
  }
 ],
 "metadata": {
  "kernelspec": {
   "display_name": "Python 3",
   "language": "python",
   "name": "python3"
  },
  "language_info": {
   "codemirror_mode": {
    "name": "ipython",
    "version": 3
   },
   "file_extension": ".py",
   "mimetype": "text/x-python",
   "name": "python",
   "nbconvert_exporter": "python",
   "pygments_lexer": "ipython3",
   "version": "3.7.3"
  },
  "toc": {
   "base_numbering": 1,
   "nav_menu": {},
   "number_sections": true,
   "sideBar": true,
   "skip_h1_title": true,
   "title_cell": "Table of Contents",
   "title_sidebar": "Contents",
   "toc_cell": false,
   "toc_position": {},
   "toc_section_display": true,
   "toc_window_display": false
  }
 },
 "nbformat": 4,
 "nbformat_minor": 2
}

{
 "cells": [
  {
   "cell_type": "markdown",
   "metadata": {},
   "source": [
    "# Assignment\n",
    "\n",
    "In this module I will have you start a new local repo and push it to Github."
   ]
  },
  {
   "cell_type": "markdown",
   "metadata": {},
   "source": [
    "## Step One: New Local Repo\n",
    "\n",
    "* In jupyterhub, open a terminal\n",
    "\n",
    "\n",
    "* Make a new directory called assign1 with the command `mkdir assign1`\n",
    "\n",
    "\n",
    "* Change to that directory with `cd assign1`\n",
    "\n",
    "\n",
    "* Create an empty repo with `git init`\n",
    "\n",
    "\n",
    "* In jupyterhub, go to the assign1 directory and create a notebook there called Graph1\n",
    "\n",
    "\n",
    "* In the Graph1 notebook create the graph of $\\frac{sin(x)}{x}$ on the x interval \\[-15,15], and save the notebook\n",
    "\n",
    "\n",
    "* In the terminal check the status with `git status`\n",
    "\n",
    "\n",
    "* Add the notebook to the staging area with `git add Graph1.ipynb`\n",
    "\n",
    "\n",
    "* Commit changes with `git commit -m 'Added Graph1.ipynb'`\n",
    "\n",
    "\n",
    "* Add a markdown cell to Graph1 and save the notebook\n",
    "\n",
    "\n",
    "* Check the status of the repo\n",
    "\n",
    "\n",
    "* Add the notebook again and commit"
   ]
  },
  {
   "cell_type": "markdown",
   "metadata": {},
   "source": [
    "## Step Two: Create Github repo and push content\n",
    "\n",
    "* Create a Github account if you haven't yet done so\n",
    "\n",
    "\n",
    "* Create a Github repo named assign1 and copy its URL \n",
    "\n",
    "\n",
    "* In the terminal create a remote with `git remote add origin <URL of your github repo>`\n",
    "\n",
    "\n",
    "* Push content to Github with `git push -u origin master`\n",
    "\n",
    "\n",
    "* Now look at your Github repo in a browser."
   ]
  },
  {
   "cell_type": "markdown",
   "metadata": {},
   "source": [
    "## Step Three: Add a new notebook\n",
    "\n",
    "* Create a second notebook Graph2 and create the graph of $x^3 -x$ on the interval \\[-2,2]\n",
    "\n",
    "\n",
    "* Add it to the local repo and commit.\n",
    "\n",
    "\n",
    "* Push it to Github and look at the Github repo in a browser."
   ]
  },
  {
   "cell_type": "code",
   "execution_count": null,
   "metadata": {},
   "outputs": [],
   "source": []
  }
 ],
 "metadata": {
  "kernelspec": {
   "display_name": "Python 3",
   "language": "python",
   "name": "python3"
  },
  "language_info": {
   "codemirror_mode": {
    "name": "ipython",
    "version": 3
   },
   "file_extension": ".py",
   "mimetype": "text/x-python",
   "name": "python",
   "nbconvert_exporter": "python",
   "pygments_lexer": "ipython3",
   "version": "3.7.3"
  },
  "toc": {
   "base_numbering": 1,
   "nav_menu": {},
   "number_sections": true,
   "sideBar": true,
   "skip_h1_title": true,
   "title_cell": "Table of Contents",
   "title_sidebar": "Contents",
   "toc_cell": false,
   "toc_position": {},
   "toc_section_display": true,
   "toc_window_display": false
  }
 },
 "nbformat": 4,
 "nbformat_minor": 2
}

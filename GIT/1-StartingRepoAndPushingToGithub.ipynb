{
 "cells": [
  {
   "cell_type": "markdown",
   "metadata": {},
   "source": [
    "# Starting a Repo and Pushing it to Github\n",
    "\n",
    "In this module I will go through the steps that I took to create a repo and push it to Github.\n",
    "\n",
    "## Initialize the Repo\n",
    "\n",
    "* Open a terminal in the jupyterhub and create a directory named preprac with the command `mkdir preprac`\n",
    "* Change to the preprac directory with the command `cd preprac`\n",
    "* Initialize an empty repo with `git init`"
   ]
  },
  {
   "cell_type": "markdown",
   "metadata": {},
   "source": [
    "## Add Files to Local Repo\n",
    "\n",
    "I used the jupyterhub to create several notebooks in the preprac directory.  I also created the directory data inside preprac and put some image files there.\n",
    "\n",
    "At this point I had a number of files in the preprac directory, but I have to add them to the repo and commit the changes.\n",
    "\n",
    "You use `git add <file name>` to add files and directories to the repo. Here are three of the add commands I used.\n",
    "\n",
    "`\n",
    "git add Figures.ipynb\n",
    "git add SignedArea.ipynb\n",
    "git add data/*`\n",
    "\n",
    "At this point you can continue to edit the files.  When you are ready to commit, type\n",
    "\n",
    "`git commit -m 'Initialize new repo'`\n",
    "\n",
    "The string following -m is a comment added to the commit."
   ]
  },
  {
   "cell_type": "markdown",
   "metadata": {},
   "source": [
    "## Push Local to Github\n",
    "\n",
    "At this point my local repo had several notebooks concerning coordinates and some image files.\n",
    "\n",
    "Next I created a new repo on Github named preprac.  The URL is https://github.com/jlb-uncw/preprac.git\n",
    "\n",
    "Note that in a browser you could leave off the `.git` at the end, but for the purposes of the git command, you need the `.git`.\n",
    "\n",
    "**Create a remote**\n",
    "\n",
    "git uses remotes to point to repositories outside the local repository.  The following command created a remote named `origin` that points to the Github repository.\n",
    "\n",
    "`git remote add origin https://github.com/jlb-uncw/preprac.git`\n",
    "\n",
    "After executing this command I can refer to this repo by its name `origin`.\n",
    "\n",
    "The next commands pushes the contents of the local repo to the Github repo.  Note, `master` is the name of the branch on the local repo that I want to push.  master is the only branch at this point.\n",
    "\n",
    "`git push -u origin master`\n",
    "\n",
    "I was able to do this because I own the Github repo, I had to supply my user name and password."
   ]
  },
  {
   "cell_type": "markdown",
   "metadata": {},
   "source": [
    "## Adding Content to Local and Remote\n",
    "\n",
    "The steps are:\n",
    "\n",
    "* Create new local content\n",
    "* add to the local repo\n",
    "* commit changes\n",
    "* push to origin\n",
    "\n",
    "Next I used the jupyterhub to create the notebook Introduction.ipynb in the local repo.  Then executed these commands:\n",
    "\n",
    "`\n",
    "git add Introduction.ipynb\n",
    "git commit -m 'Added Introduction.ipynb'\n",
    "git push -u origin master\n",
    "`"
   ]
  }
 ],
 "metadata": {
  "kernelspec": {
   "display_name": "Python 3",
   "language": "python",
   "name": "python3"
  },
  "language_info": {
   "codemirror_mode": {
    "name": "ipython",
    "version": 3
   },
   "file_extension": ".py",
   "mimetype": "text/x-python",
   "name": "python",
   "nbconvert_exporter": "python",
   "pygments_lexer": "ipython3",
   "version": "3.7.3"
  },
  "toc": {
   "base_numbering": 1,
   "nav_menu": {},
   "number_sections": true,
   "sideBar": true,
   "skip_h1_title": true,
   "title_cell": "Table of Contents",
   "title_sidebar": "Contents",
   "toc_cell": false,
   "toc_position": {},
   "toc_section_display": true,
   "toc_window_display": false
  }
 },
 "nbformat": 4,
 "nbformat_minor": 2
}
